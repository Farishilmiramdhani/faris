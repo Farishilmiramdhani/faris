{
 "cells": [
  {
   "cell_type": "code",
   "execution_count": 2,
   "id": "a1df6892",
   "metadata": {},
   "outputs": [],
   "source": [
    "import numpy as np\n",
    "import pandas as pd\n",
    "import xgboost as xgb\n",
    "from sklearn.model_selection import train_test_split\n",
    "from sklearn.metrics import accuracy_score\n",
    "import seaborn as sns"
   ]
  },
  {
   "cell_type": "code",
   "execution_count": 3,
   "id": "a83783e5",
   "metadata": {},
   "outputs": [],
   "source": [
    "titanic = sns.load_dataset('titanic')\n",
    "\n",
    "# Drop columns yang tidak dibutuhkan\n",
    "titanic.drop(['embarked', 'class', 'who', 'adult_male', 'deck', 'embark_town', 'alive'], axis=1, inplace=True)\n",
    "\n",
    "# Mengisi missing value pada kolom age dengan median\n",
    "titanic['age'].fillna(titanic['age'].mean(), inplace=True)\n",
    "\n",
    "# Konversi categorical variable menjadi numerical variable\n",
    "titanic = pd.get_dummies(titanic, columns=['sex', 'alone'], drop_first=True)\n",
    "\n",
    "# Pisahkan feature dan target variable\n",
    "X, y = titanic.drop(['survived'], axis=1), titanic['survived']\n",
    "\n",
    "# Bagi dataset menjadi training set dan test set\n",
    "X_train, X_test, y_train, y_test = train_test_split(X, y, test_size=0.3, random_state=42)"
   ]
  },
  {
   "cell_type": "code",
   "execution_count": 4,
   "id": "407f553d",
   "metadata": {},
   "outputs": [],
   "source": [
    "train_dmatrix = xgb.DMatrix(data=X_train,label=y_train)"
   ]
  },
  {
   "cell_type": "code",
   "execution_count": 13,
   "id": "bacd5a5a",
   "metadata": {},
   "outputs": [],
   "source": [
    "params = {'objective':'binary:logistic',\n",
    "          'max_depth':6,\n",
    "          'learning_rate':1,\n",
    "          'eval_metric':'error'}\n",
    "#objective: hubungan sebab akibat antara X dan Y\n",
    "#max_depth: mengukur kedalaman, semakin besar berpotensi overfitiing (?) #default 6, tapi di sini\n",
    "          \n",
    "num_round = 70 #The number of rounds for boosting\n",
    "\n",
    "model = xgb.train(params, train_dmatrix, num_round)"
   ]
  },
  {
   "cell_type": "code",
   "execution_count": 14,
   "id": "c7d56482",
   "metadata": {},
   "outputs": [],
   "source": [
    "test_dmatrix = xgb.DMatrix(data=X_test)\n",
    "\n",
    "y_pred = model.predict(test_dmatrix)\n",
    "y_pred = [round(value) for value in y_pred]"
   ]
  },
  {
   "cell_type": "code",
   "execution_count": 15,
   "id": "72e2ed62",
   "metadata": {},
   "outputs": [
    {
     "name": "stdout",
     "output_type": "stream",
     "text": [
      "Accuracy: 78.73%\n"
     ]
    }
   ],
   "source": [
    "accuracy = accuracy_score(y_test, y_pred)\n",
    "print(\"Accuracy: %.2f%%\" % (accuracy * 100.0))"
   ]
  },
  {
   "cell_type": "code",
   "execution_count": null,
   "id": "6e19076b",
   "metadata": {},
   "outputs": [],
   "source": []
  }
 ],
 "metadata": {
  "kernelspec": {
   "display_name": "Python 3 (ipykernel)",
   "language": "python",
   "name": "python3"
  },
  "language_info": {
   "codemirror_mode": {
    "name": "ipython",
    "version": 3
   },
   "file_extension": ".py",
   "mimetype": "text/x-python",
   "name": "python",
   "nbconvert_exporter": "python",
   "pygments_lexer": "ipython3",
   "version": "3.11.5"
  }
 },
 "nbformat": 4,
 "nbformat_minor": 5
}
